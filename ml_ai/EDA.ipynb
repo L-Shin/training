{
 "cells": [
  {
   "cell_type": "code",
   "execution_count": 31,
   "metadata": {},
   "outputs": [],
   "source": [
    "from py2neo import Graph\n",
    "import pandas as pd"
   ]
  },
  {
   "cell_type": "code",
   "execution_count": 3,
   "metadata": {},
   "outputs": [],
   "source": [
    "graph = Graph(\"bolt://localhost\", auth=(\"neo4j\", \"neo\"))"
   ]
  },
  {
   "cell_type": "code",
   "execution_count": 5,
   "metadata": {},
   "outputs": [],
   "source": [
    "listings_file = \"http://guides.neo4j.com/listings/data/listings.csv\"\n",
    "reviews_file = \"http://guides.neo4j.com/listings/data/reviews.csv\""
   ]
  },
  {
   "cell_type": "markdown",
   "metadata": {},
   "source": [
    "## Listings"
   ]
  },
  {
   "cell_type": "code",
   "execution_count": 45,
   "metadata": {},
   "outputs": [
    {
     "data": {
      "text/plain": [
       "<py2neo.database.Cursor at 0x11c711128>"
      ]
     },
     "execution_count": 45,
     "metadata": {},
     "output_type": "execute_result"
    }
   ],
   "source": [
    "constraint_query = \"\"\"\n",
    "CREATE CONSTRAINT ON (l:Listing)\n",
    "ASSERT l.id IS UNIQUE\n",
    "\"\"\"\n",
    "\n",
    "import_query = \"\"\"\n",
    "LOAD CSV WITH HEADERS FROM $listingsFile AS row\n",
    "WITH row WHERE row.id IS NOT NULL\n",
    "MERGE (l:Listing {id: row.id})\n",
    "SET l.name = row.name,\n",
    "    l.price = toFloat(substring(row.price, 1)),\n",
    "    l.weeklyPrice = toFloat(substring(row.weekly_price, 1)),\n",
    "    l.cleaningFee = toFloat(substring(row.cleaning_fee, 1)),\n",
    "    l.propertyType = row.property_type,\n",
    "    l.accommodates = toInt(row.accommodates),\n",
    "    l.bedrooms = toInt(row.bedrooms),\n",
    "    l.bathrooms = toInt(row.bathrooms),\n",
    "    l.availability365 = toInt(row.availability_365)\n",
    "\"\"\"\n",
    "\n",
    "graph.run(constraint_query)\n",
    "graph.run(import_query, {\"listingsFile\": listings_file})"
   ]
  },
  {
   "cell_type": "markdown",
   "metadata": {},
   "source": [
    "## Neighborhoods"
   ]
  },
  {
   "cell_type": "code",
   "execution_count": 46,
   "metadata": {},
   "outputs": [
    {
     "data": {
      "text/plain": [
       "<py2neo.database.Cursor at 0x11c711940>"
      ]
     },
     "execution_count": 46,
     "metadata": {},
     "output_type": "execute_result"
    }
   ],
   "source": [
    "constraint_query = \"\"\"\n",
    "CREATE CONSTRAINT ON (n:Neighborhood) \n",
    "ASSERT n.id IS UNIQUE\n",
    "\"\"\"\n",
    "\n",
    "import_query = \"\"\"\n",
    "LOAD CSV WITH HEADERS FROM $listingsFile AS row\n",
    "WITH row WHERE row.id IS NOT NULL\n",
    "MATCH (l:Listing {id: row.id})\n",
    "MERGE (n:Neighborhood {id: coalesce(row.neighbourhood_cleansed, \"NA\")})\n",
    "ON CREATE SET n.name = row.neighbourhood\n",
    "MERGE (l)-[:IN_NEIGHBORHOOD]->(n);\n",
    "\"\"\"\n",
    "\n",
    "graph.run(constraint_query)\n",
    "graph.run(import_query, {\"listingsFile\": listings_file})"
   ]
  },
  {
   "cell_type": "markdown",
   "metadata": {},
   "source": [
    "## Amenities"
   ]
  },
  {
   "cell_type": "code",
   "execution_count": 47,
   "metadata": {},
   "outputs": [
    {
     "data": {
      "text/plain": [
       "<py2neo.database.Cursor at 0x11c711d68>"
      ]
     },
     "execution_count": 47,
     "metadata": {},
     "output_type": "execute_result"
    }
   ],
   "source": [
    "constraint_query = \"\"\"\n",
    "CREATE CONSTRAINT ON (a:Amenity) \n",
    "ASSERT a.name IS UNIQUE;\n",
    "\"\"\"\n",
    "\n",
    "import_query = \"\"\"\n",
    "LOAD CSV WITH HEADERS FROM $listingsFile AS row\n",
    "WITH row WHERE row.id IS NOT NULL\n",
    "MATCH (l:Listing {id: row.id})\n",
    "WITH l, split(replace(replace(replace(row.amenities, '{', ''), '}', ''), '\\\"', ''), ',') AS amenities\n",
    "UNWIND amenities AS amenity\n",
    "MERGE (a:Amenity {name: amenity})\n",
    "MERGE (l)-[:HAS]->(a)\n",
    "\"\"\"\n",
    "\n",
    "graph.run(constraint_query)\n",
    "graph.run(import_query, {\"listingsFile\": listings_file})"
   ]
  },
  {
   "cell_type": "markdown",
   "metadata": {},
   "source": [
    "## Hosts"
   ]
  },
  {
   "cell_type": "code",
   "execution_count": 48,
   "metadata": {},
   "outputs": [
    {
     "data": {
      "text/plain": [
       "<py2neo.database.Cursor at 0x11c715400>"
      ]
     },
     "execution_count": 48,
     "metadata": {},
     "output_type": "execute_result"
    }
   ],
   "source": [
    "constraint_query = \"\"\"\n",
    "CREATE CONSTRAINT ON (h:Host) \n",
    "ASSERT h.id IS UNIQUE\n",
    "\"\"\"\n",
    "\n",
    "import_query = \"\"\"\n",
    "LOAD CSV WITH HEADERS FROM $listingsFile AS row\n",
    "WITH row WHERE row.host_id IS NOT NULL\n",
    "MERGE (h:Host {id: row.host_id})\n",
    "ON CREATE SET h.name      = row.host_name,\n",
    "              h.about     = row.host_abot,\n",
    "              h.superhost = CASE WHEN row.host_is_super_host = \"t\" THEN True ELSE False END,\n",
    "              h.location  = row.host_location,\n",
    "              h.image     = row.host_picture_url\n",
    "WITH row, h\n",
    "MATCH (l:Listing {id: row.id})\n",
    "MERGE (h)-[:HOSTS]->(l);\n",
    "\"\"\"\n",
    "\n",
    "graph.run(constraint_query)\n",
    "graph.run(import_query, {\"listingsFile\": listings_file})"
   ]
  },
  {
   "cell_type": "markdown",
   "metadata": {},
   "source": [
    "## Reviews"
   ]
  },
  {
   "cell_type": "code",
   "execution_count": 51,
   "metadata": {},
   "outputs": [
    {
     "data": {
      "text/plain": [
       "<py2neo.database.Cursor at 0x11c720908>"
      ]
     },
     "execution_count": 51,
     "metadata": {},
     "output_type": "execute_result"
    }
   ],
   "source": [
    "user_constraint_query = \"\"\"\n",
    "CREATE CONSTRAINT ON (u:User) \n",
    "ASSERT u.id IS UNIQUE\n",
    "\"\"\"\n",
    "\n",
    "review_constraint_query = \"\"\"\n",
    "CREATE CONSTRAINT ON (r:Review) \n",
    "ASSERT r.id IS UNIQUE\n",
    "\"\"\"\n",
    "\n",
    "\n",
    "import_query = \"\"\"\n",
    "USING PERIODIC COMMIT 10000\n",
    "LOAD CSV WITH HEADERS FROM $reviewsFile AS row\n",
    "\n",
    "// User\n",
    "MERGE (u:User {id: row.reviewer_id})\n",
    "SET u.name = row.reviewer_name\n",
    "\n",
    "// Review\n",
    "MERGE (r:Review {id: row.id})\n",
    "SET r.date     = row.date,\n",
    "    r.comments = row.comments\n",
    "WITH row, u, r\n",
    "MATCH (l:Listing {id: row.listing_id})\n",
    "MERGE (u)-[:WROTE]->(r)\n",
    "MERGE (r)-[:REVIEWS]->(l);\n",
    "\"\"\"\n",
    "\n",
    "graph.run(user_constraint_query)\n",
    "graph.run(review_constraint_query)\n",
    "graph.run(import_query, {\"reviewsFile\": reviews_file})"
   ]
  },
  {
   "cell_type": "markdown",
   "metadata": {},
   "source": [
    "Let's see what we've imported. Run the following query to check how many nodes our database contains:"
   ]
  },
  {
   "cell_type": "code",
   "execution_count": 52,
   "metadata": {},
   "outputs": [
    {
     "data": {
      "text/html": [
       "<div>\n",
       "<style scoped>\n",
       "    .dataframe tbody tr th:only-of-type {\n",
       "        vertical-align: middle;\n",
       "    }\n",
       "\n",
       "    .dataframe tbody tr th {\n",
       "        vertical-align: top;\n",
       "    }\n",
       "\n",
       "    .dataframe thead th {\n",
       "        text-align: right;\n",
       "    }\n",
       "</style>\n",
       "<table border=\"1\" class=\"dataframe\">\n",
       "  <thead>\n",
       "    <tr style=\"text-align: right;\">\n",
       "      <th></th>\n",
       "      <th>nodeCount</th>\n",
       "    </tr>\n",
       "  </thead>\n",
       "  <tbody>\n",
       "    <tr>\n",
       "      <th>0</th>\n",
       "      <td>248337</td>\n",
       "    </tr>\n",
       "  </tbody>\n",
       "</table>\n",
       "</div>"
      ],
      "text/plain": [
       "   nodeCount\n",
       "0     248337"
      ]
     },
     "execution_count": 52,
     "metadata": {},
     "output_type": "execute_result"
    }
   ],
   "source": [
    "query = \"\"\"\n",
    "MATCH () \n",
    "RETURN COUNT(*) AS nodeCount\n",
    "\"\"\"\n",
    "\n",
    "graph.run(query).to_data_frame()"
   ]
  },
  {
   "cell_type": "markdown",
   "metadata": {},
   "source": [
    "Let's drill down a bit. What types of nodes do we have?"
   ]
  },
  {
   "cell_type": "code",
   "execution_count": 38,
   "metadata": {},
   "outputs": [
    {
     "data": {
      "text/html": [
       "<div>\n",
       "<style scoped>\n",
       "    .dataframe tbody tr th:only-of-type {\n",
       "        vertical-align: middle;\n",
       "    }\n",
       "\n",
       "    .dataframe tbody tr th {\n",
       "        vertical-align: top;\n",
       "    }\n",
       "\n",
       "    .dataframe thead th {\n",
       "        text-align: right;\n",
       "    }\n",
       "</style>\n",
       "<table border=\"1\" class=\"dataframe\">\n",
       "  <thead>\n",
       "    <tr style=\"text-align: right;\">\n",
       "      <th></th>\n",
       "      <th>label</th>\n",
       "      <th>count</th>\n",
       "    </tr>\n",
       "  </thead>\n",
       "  <tbody>\n",
       "    <tr>\n",
       "      <th>2</th>\n",
       "      <td>Neighborhood</td>\n",
       "      <td>41</td>\n",
       "    </tr>\n",
       "    <tr>\n",
       "      <th>1</th>\n",
       "      <td>Amenity</td>\n",
       "      <td>42</td>\n",
       "    </tr>\n",
       "    <tr>\n",
       "      <th>3</th>\n",
       "      <td>Host</td>\n",
       "      <td>4633</td>\n",
       "    </tr>\n",
       "    <tr>\n",
       "      <th>0</th>\n",
       "      <td>Listing</td>\n",
       "      <td>5835</td>\n",
       "    </tr>\n",
       "    <tr>\n",
       "      <th>4</th>\n",
       "      <td>User</td>\n",
       "      <td>111834</td>\n",
       "    </tr>\n",
       "    <tr>\n",
       "      <th>5</th>\n",
       "      <td>Review</td>\n",
       "      <td>125952</td>\n",
       "    </tr>\n",
       "  </tbody>\n",
       "</table>\n",
       "</div>"
      ],
      "text/plain": [
       "          label   count\n",
       "2  Neighborhood      41\n",
       "1       Amenity      42\n",
       "3          Host    4633\n",
       "0       Listing    5835\n",
       "4          User  111834\n",
       "5        Review  125952"
      ]
     },
     "execution_count": 38,
     "metadata": {},
     "output_type": "execute_result"
    }
   ],
   "source": [
    "result = {\"label\": [], \"count\": []}\n",
    "for label in graph.run(\"CALL db.labels()\").to_series():\n",
    "    query = f\"MATCH (:`{label}`) RETURN count(*) as count\"\n",
    "    count = graph.run(query).to_data_frame().iloc[0]['count']\n",
    "    result[\"label\"].append(label)\n",
    "    result[\"count\"].append(count)\n",
    "pd.DataFrame(data=result).sort_values(\"count\")"
   ]
  },
  {
   "cell_type": "markdown",
   "metadata": {},
   "source": [
    "And what types of relationships?"
   ]
  },
  {
   "cell_type": "code",
   "execution_count": 46,
   "metadata": {},
   "outputs": [
    {
     "data": {
      "text/html": [
       "<div>\n",
       "<style scoped>\n",
       "    .dataframe tbody tr th:only-of-type {\n",
       "        vertical-align: middle;\n",
       "    }\n",
       "\n",
       "    .dataframe tbody tr th {\n",
       "        vertical-align: top;\n",
       "    }\n",
       "\n",
       "    .dataframe thead th {\n",
       "        text-align: right;\n",
       "    }\n",
       "</style>\n",
       "<table border=\"1\" class=\"dataframe\">\n",
       "  <thead>\n",
       "    <tr style=\"text-align: right;\">\n",
       "      <th></th>\n",
       "      <th>relType</th>\n",
       "      <th>count</th>\n",
       "    </tr>\n",
       "  </thead>\n",
       "  <tbody>\n",
       "    <tr>\n",
       "      <th>1</th>\n",
       "      <td>IN_NEIGHBORHOOD</td>\n",
       "      <td>5835</td>\n",
       "    </tr>\n",
       "    <tr>\n",
       "      <th>2</th>\n",
       "      <td>HOSTS</td>\n",
       "      <td>5835</td>\n",
       "    </tr>\n",
       "    <tr>\n",
       "      <th>3</th>\n",
       "      <td>WROTE</td>\n",
       "      <td>62976</td>\n",
       "    </tr>\n",
       "    <tr>\n",
       "      <th>4</th>\n",
       "      <td>REVIEWS</td>\n",
       "      <td>62976</td>\n",
       "    </tr>\n",
       "    <tr>\n",
       "      <th>0</th>\n",
       "      <td>HAS</td>\n",
       "      <td>82561</td>\n",
       "    </tr>\n",
       "  </tbody>\n",
       "</table>\n",
       "</div>"
      ],
      "text/plain": [
       "           relType  count\n",
       "1  IN_NEIGHBORHOOD   5835\n",
       "2            HOSTS   5835\n",
       "3            WROTE  62976\n",
       "4          REVIEWS  62976\n",
       "0              HAS  82561"
      ]
     },
     "execution_count": 46,
     "metadata": {},
     "output_type": "execute_result"
    }
   ],
   "source": [
    "result = {\"relType\": [], \"count\": []}\n",
    "for relationship_type in graph.run(\"CALL db.relationshipTypes()\").to_series():\n",
    "    query = f\"MATCH ()-[:`{relationship_type}`]->() RETURN count(*) as count\"\n",
    "    count = graph.run(query).to_data_frame().iloc[0]['count']\n",
    "    result[\"relType\"].append(relationship_type)\n",
    "    result[\"count\"].append(count)\n",
    "pd.DataFrame(data=result).sort_values(\"count\")"
   ]
  },
  {
   "cell_type": "markdown",
   "metadata": {},
   "source": [
    "Now let's explore the neighborhood data:"
   ]
  },
  {
   "cell_type": "code",
   "execution_count": 36,
   "metadata": {},
   "outputs": [
    {
     "data": {
      "text/html": [
       "<div>\n",
       "<style scoped>\n",
       "    .dataframe tbody tr th:only-of-type {\n",
       "        vertical-align: middle;\n",
       "    }\n",
       "\n",
       "    .dataframe tbody tr th {\n",
       "        vertical-align: top;\n",
       "    }\n",
       "\n",
       "    .dataframe thead th {\n",
       "        text-align: right;\n",
       "    }\n",
       "</style>\n",
       "<table border=\"1\" class=\"dataframe\">\n",
       "  <thead>\n",
       "    <tr style=\"text-align: right;\">\n",
       "      <th></th>\n",
       "      <th>amenities</th>\n",
       "      <th>name</th>\n",
       "      <th>neighborhood</th>\n",
       "      <th>price</th>\n",
       "    </tr>\n",
       "  </thead>\n",
       "  <tbody>\n",
       "    <tr>\n",
       "      <th>0</th>\n",
       "      <td>[Air Conditioning, Wireless Internet, Internet...</td>\n",
       "      <td>THE place in Austin for SXSW</td>\n",
       "      <td>None</td>\n",
       "      <td>220.0</td>\n",
       "    </tr>\n",
       "    <tr>\n",
       "      <th>1</th>\n",
       "      <td>[Internet, Wireless Internet, Air Conditioning...</td>\n",
       "      <td>Good room for F1, 5minutes to metro</td>\n",
       "      <td>None</td>\n",
       "      <td>150.0</td>\n",
       "    </tr>\n",
       "    <tr>\n",
       "      <th>2</th>\n",
       "      <td>[TV, Internet, Cat(s), Pets live on this prope...</td>\n",
       "      <td>SXSW Rental! 10 min from it all!</td>\n",
       "      <td>Oak Hill</td>\n",
       "      <td>300.0</td>\n",
       "    </tr>\n",
       "    <tr>\n",
       "      <th>3</th>\n",
       "      <td>[Dryer, Smoke Detector, Carbon Monoxide Detect...</td>\n",
       "      <td>A skip to everything SXSW 2015!</td>\n",
       "      <td>None</td>\n",
       "      <td>200.0</td>\n",
       "    </tr>\n",
       "    <tr>\n",
       "      <th>4</th>\n",
       "      <td>[TV, Cable TV, Internet, Wireless Internet, Ai...</td>\n",
       "      <td>Beautiful SoCo House near downtown</td>\n",
       "      <td>None</td>\n",
       "      <td>749.0</td>\n",
       "    </tr>\n",
       "    <tr>\n",
       "      <th>5</th>\n",
       "      <td>[Shampoo, Washer, Heating, Pets Allowed, Smoki...</td>\n",
       "      <td>For ACL 1 Bedroom Studio House</td>\n",
       "      <td>None</td>\n",
       "      <td>120.0</td>\n",
       "    </tr>\n",
       "    <tr>\n",
       "      <th>6</th>\n",
       "      <td>[Essentials, Shampoo, Safety Card, Fire Exting...</td>\n",
       "      <td>Comfy Private Guest Room</td>\n",
       "      <td>None</td>\n",
       "      <td>89.0</td>\n",
       "    </tr>\n",
       "    <tr>\n",
       "      <th>7</th>\n",
       "      <td>[Carbon Monoxide Detector, Safety Card, Dryer,...</td>\n",
       "      <td>Zilker Hayloft - Near Downtown</td>\n",
       "      <td>None</td>\n",
       "      <td>125.0</td>\n",
       "    </tr>\n",
       "    <tr>\n",
       "      <th>8</th>\n",
       "      <td>[]</td>\n",
       "      <td>COZY little place ;)</td>\n",
       "      <td>Hancock</td>\n",
       "      <td>35.0</td>\n",
       "    </tr>\n",
       "    <tr>\n",
       "      <th>9</th>\n",
       "      <td>[]</td>\n",
       "      <td>Room for rent in co op.</td>\n",
       "      <td>None</td>\n",
       "      <td>28.0</td>\n",
       "    </tr>\n",
       "    <tr>\n",
       "      <th>10</th>\n",
       "      <td>[Free Parking on Premises, Kitchen, Air Condit...</td>\n",
       "      <td>East Austin, 3 BR Near Downtown</td>\n",
       "      <td>None</td>\n",
       "      <td>225.0</td>\n",
       "    </tr>\n",
       "    <tr>\n",
       "      <th>11</th>\n",
       "      <td>[First Aid Kit, Fire Extinguisher, Essentials,...</td>\n",
       "      <td>Large room in south central Austin</td>\n",
       "      <td>None</td>\n",
       "      <td>100.0</td>\n",
       "    </tr>\n",
       "    <tr>\n",
       "      <th>12</th>\n",
       "      <td>[Carbon Monoxide Detector, Shampoo, Wireless I...</td>\n",
       "      <td>Perfect for ACL. Walk everywhere!</td>\n",
       "      <td>Clarksville</td>\n",
       "      <td>190.0</td>\n",
       "    </tr>\n",
       "    <tr>\n",
       "      <th>13</th>\n",
       "      <td>[Air Conditioning, Wireless Internet, Pool, Wh...</td>\n",
       "      <td>Beautiful loft in Austin</td>\n",
       "      <td>None</td>\n",
       "      <td>165.0</td>\n",
       "    </tr>\n",
       "    <tr>\n",
       "      <th>14</th>\n",
       "      <td>[TV, Internet, Wireless Internet, Air Conditio...</td>\n",
       "      <td>MARTINFUN HOUSE - HEART OF HOLLY</td>\n",
       "      <td>None</td>\n",
       "      <td>849.0</td>\n",
       "    </tr>\n",
       "    <tr>\n",
       "      <th>15</th>\n",
       "      <td>[Dog(s), Pets live on this property, Washer, H...</td>\n",
       "      <td>Spacious Austin Retreat</td>\n",
       "      <td>None</td>\n",
       "      <td>150.0</td>\n",
       "    </tr>\n",
       "    <tr>\n",
       "      <th>16</th>\n",
       "      <td>[Fire Extinguisher, Essentials, Smoke Detector...</td>\n",
       "      <td>Spacious House, Great Neighborhood</td>\n",
       "      <td>None</td>\n",
       "      <td>195.0</td>\n",
       "    </tr>\n",
       "    <tr>\n",
       "      <th>17</th>\n",
       "      <td>[TV, Air Conditioning, Kitchen, Internet, Wire...</td>\n",
       "      <td>New Central Austin 3BR Townhouse</td>\n",
       "      <td>Mueller</td>\n",
       "      <td>150.0</td>\n",
       "    </tr>\n",
       "    <tr>\n",
       "      <th>18</th>\n",
       "      <td>[Dog(s), Pets live on this property, Free Park...</td>\n",
       "      <td>EAST Austin Modern near EVERYTHING!</td>\n",
       "      <td>None</td>\n",
       "      <td>69.0</td>\n",
       "    </tr>\n",
       "    <tr>\n",
       "      <th>19</th>\n",
       "      <td>[Shampoo, Essentials, Smoke Detector, Fire Ext...</td>\n",
       "      <td>Metropolis Apartment</td>\n",
       "      <td>East Riverside</td>\n",
       "      <td>129.0</td>\n",
       "    </tr>\n",
       "    <tr>\n",
       "      <th>20</th>\n",
       "      <td>[Carbon Monoxide Detector, Smoke Detector, Sha...</td>\n",
       "      <td>Retreat in Austin</td>\n",
       "      <td>Long Canyon</td>\n",
       "      <td>NaN</td>\n",
       "    </tr>\n",
       "    <tr>\n",
       "      <th>21</th>\n",
       "      <td>[TV, Wireless Internet, Air Conditioning, Cabl...</td>\n",
       "      <td>Master Bed &amp; Bath 10mins 2 Downtown</td>\n",
       "      <td>St. Johns</td>\n",
       "      <td>75.0</td>\n",
       "    </tr>\n",
       "    <tr>\n",
       "      <th>22</th>\n",
       "      <td>[Shampoo, Essentials, Carbon Monoxide Detector...</td>\n",
       "      <td>DOWNTOWN AUSTIN-ACL-SXSW-FOR1-XGAME</td>\n",
       "      <td>Clarksville</td>\n",
       "      <td>119.0</td>\n",
       "    </tr>\n",
       "    <tr>\n",
       "      <th>23</th>\n",
       "      <td>[Shampoo, Essentials, Fire Extinguisher, Safet...</td>\n",
       "      <td>Beautiful Rm, yard, hardwood home!</td>\n",
       "      <td>St. Johns</td>\n",
       "      <td>49.0</td>\n",
       "    </tr>\n",
       "    <tr>\n",
       "      <th>24</th>\n",
       "      <td>[Carbon Monoxide Detector, Fire Extinguisher, ...</td>\n",
       "      <td>Luxury Living in Central ATX</td>\n",
       "      <td>Downtown</td>\n",
       "      <td>229.0</td>\n",
       "    </tr>\n",
       "  </tbody>\n",
       "</table>\n",
       "</div>"
      ],
      "text/plain": [
       "                                            amenities  \\\n",
       "0   [Air Conditioning, Wireless Internet, Internet...   \n",
       "1   [Internet, Wireless Internet, Air Conditioning...   \n",
       "2   [TV, Internet, Cat(s), Pets live on this prope...   \n",
       "3   [Dryer, Smoke Detector, Carbon Monoxide Detect...   \n",
       "4   [TV, Cable TV, Internet, Wireless Internet, Ai...   \n",
       "5   [Shampoo, Washer, Heating, Pets Allowed, Smoki...   \n",
       "6   [Essentials, Shampoo, Safety Card, Fire Exting...   \n",
       "7   [Carbon Monoxide Detector, Safety Card, Dryer,...   \n",
       "8                                                  []   \n",
       "9                                                  []   \n",
       "10  [Free Parking on Premises, Kitchen, Air Condit...   \n",
       "11  [First Aid Kit, Fire Extinguisher, Essentials,...   \n",
       "12  [Carbon Monoxide Detector, Shampoo, Wireless I...   \n",
       "13  [Air Conditioning, Wireless Internet, Pool, Wh...   \n",
       "14  [TV, Internet, Wireless Internet, Air Conditio...   \n",
       "15  [Dog(s), Pets live on this property, Washer, H...   \n",
       "16  [Fire Extinguisher, Essentials, Smoke Detector...   \n",
       "17  [TV, Air Conditioning, Kitchen, Internet, Wire...   \n",
       "18  [Dog(s), Pets live on this property, Free Park...   \n",
       "19  [Shampoo, Essentials, Smoke Detector, Fire Ext...   \n",
       "20  [Carbon Monoxide Detector, Smoke Detector, Sha...   \n",
       "21  [TV, Wireless Internet, Air Conditioning, Cabl...   \n",
       "22  [Shampoo, Essentials, Carbon Monoxide Detector...   \n",
       "23  [Shampoo, Essentials, Fire Extinguisher, Safet...   \n",
       "24  [Carbon Monoxide Detector, Fire Extinguisher, ...   \n",
       "\n",
       "                                   name    neighborhood  price  \n",
       "0          THE place in Austin for SXSW            None  220.0  \n",
       "1   Good room for F1, 5minutes to metro            None  150.0  \n",
       "2      SXSW Rental! 10 min from it all!        Oak Hill  300.0  \n",
       "3       A skip to everything SXSW 2015!            None  200.0  \n",
       "4    Beautiful SoCo House near downtown            None  749.0  \n",
       "5        For ACL 1 Bedroom Studio House            None  120.0  \n",
       "6              Comfy Private Guest Room            None   89.0  \n",
       "7        Zilker Hayloft - Near Downtown            None  125.0  \n",
       "8                  COZY little place ;)         Hancock   35.0  \n",
       "9               Room for rent in co op.            None   28.0  \n",
       "10      East Austin, 3 BR Near Downtown            None  225.0  \n",
       "11   Large room in south central Austin            None  100.0  \n",
       "12    Perfect for ACL. Walk everywhere!     Clarksville  190.0  \n",
       "13             Beautiful loft in Austin            None  165.0  \n",
       "14     MARTINFUN HOUSE - HEART OF HOLLY            None  849.0  \n",
       "15              Spacious Austin Retreat            None  150.0  \n",
       "16   Spacious House, Great Neighborhood            None  195.0  \n",
       "17     New Central Austin 3BR Townhouse         Mueller  150.0  \n",
       "18  EAST Austin Modern near EVERYTHING!            None   69.0  \n",
       "19                 Metropolis Apartment  East Riverside  129.0  \n",
       "20                    Retreat in Austin     Long Canyon    NaN  \n",
       "21  Master Bed & Bath 10mins 2 Downtown       St. Johns   75.0  \n",
       "22  DOWNTOWN AUSTIN-ACL-SXSW-FOR1-XGAME     Clarksville  119.0  \n",
       "23   Beautiful Rm, yard, hardwood home!       St. Johns   49.0  \n",
       "24         Luxury Living in Central ATX        Downtown  229.0  "
      ]
     },
     "execution_count": 36,
     "metadata": {},
     "output_type": "execute_result"
    }
   ],
   "source": [
    "exploratory_query = \"\"\"\n",
    "MATCH (n:Neighborhood)<-[:IN_NEIGHBORHOOD]-(l:Listing)-[:HAS]->(a:Amenity) \n",
    "RETURN n.name AS neighborhood, l.name AS name, collect(a.name) AS amenities, l.price AS price \n",
    "LIMIT 25\n",
    "\"\"\"\n",
    "\n",
    "graph.run(exploratory_query).to_data_frame()"
   ]
  },
  {
   "cell_type": "markdown",
   "metadata": {},
   "source": [
    "What are the most expensive places to live?"
   ]
  },
  {
   "cell_type": "code",
   "execution_count": 4,
   "metadata": {},
   "outputs": [
    {
     "data": {
      "text/html": [
       "<div>\n",
       "<style scoped>\n",
       "    .dataframe tbody tr th:only-of-type {\n",
       "        vertical-align: middle;\n",
       "    }\n",
       "\n",
       "    .dataframe tbody tr th {\n",
       "        vertical-align: top;\n",
       "    }\n",
       "\n",
       "    .dataframe thead th {\n",
       "        text-align: right;\n",
       "    }\n",
       "</style>\n",
       "<table border=\"1\" class=\"dataframe\">\n",
       "  <thead>\n",
       "    <tr style=\"text-align: right;\">\n",
       "      <th></th>\n",
       "      <th>averagePrice</th>\n",
       "      <th>neighborhood</th>\n",
       "      <th>zip</th>\n",
       "    </tr>\n",
       "  </thead>\n",
       "  <tbody>\n",
       "    <tr>\n",
       "      <th>29</th>\n",
       "      <td>391.473684</td>\n",
       "      <td>Steiner Ranch</td>\n",
       "      <td>78732</td>\n",
       "    </tr>\n",
       "    <tr>\n",
       "      <th>6</th>\n",
       "      <td>316.593939</td>\n",
       "      <td>Barton Hills</td>\n",
       "      <td>78746</td>\n",
       "    </tr>\n",
       "    <tr>\n",
       "      <th>7</th>\n",
       "      <td>299.970822</td>\n",
       "      <td>Clarksville</td>\n",
       "      <td>78703</td>\n",
       "    </tr>\n",
       "    <tr>\n",
       "      <th>25</th>\n",
       "      <td>273.533333</td>\n",
       "      <td>None</td>\n",
       "      <td>78725</td>\n",
       "    </tr>\n",
       "    <tr>\n",
       "      <th>2</th>\n",
       "      <td>266.297720</td>\n",
       "      <td>None</td>\n",
       "      <td>78704</td>\n",
       "    </tr>\n",
       "    <tr>\n",
       "      <th>9</th>\n",
       "      <td>265.039370</td>\n",
       "      <td>None</td>\n",
       "      <td>78702</td>\n",
       "    </tr>\n",
       "    <tr>\n",
       "      <th>16</th>\n",
       "      <td>258.250000</td>\n",
       "      <td>None</td>\n",
       "      <td>78734</td>\n",
       "    </tr>\n",
       "    <tr>\n",
       "      <th>30</th>\n",
       "      <td>257.252427</td>\n",
       "      <td>Northwest Hills</td>\n",
       "      <td>78731</td>\n",
       "    </tr>\n",
       "    <tr>\n",
       "      <th>36</th>\n",
       "      <td>251.645833</td>\n",
       "      <td>Downtown</td>\n",
       "      <td>78701</td>\n",
       "    </tr>\n",
       "    <tr>\n",
       "      <th>11</th>\n",
       "      <td>240.000000</td>\n",
       "      <td>Oak Hill</td>\n",
       "      <td>78735</td>\n",
       "    </tr>\n",
       "  </tbody>\n",
       "</table>\n",
       "</div>"
      ],
      "text/plain": [
       "    averagePrice     neighborhood    zip\n",
       "29    391.473684    Steiner Ranch  78732\n",
       "6     316.593939     Barton Hills  78746\n",
       "7     299.970822      Clarksville  78703\n",
       "25    273.533333             None  78725\n",
       "2     266.297720             None  78704\n",
       "9     265.039370             None  78702\n",
       "16    258.250000             None  78734\n",
       "30    257.252427  Northwest Hills  78731\n",
       "36    251.645833         Downtown  78701\n",
       "11    240.000000         Oak Hill  78735"
      ]
     },
     "execution_count": 4,
     "metadata": {},
     "output_type": "execute_result"
    }
   ],
   "source": [
    "query = \"\"\"\n",
    "MATCH (l:Listing)-[:IN_NEIGHBORHOOD]->(n:Neighborhood)\n",
    "WITH n, avg(l.price) AS averagePrice\n",
    "RETURN n.id AS zip, n.name AS neighborhood, averagePrice\n",
    "\"\"\"\n",
    "\n",
    "(graph.run(query).to_data_frame()\n",
    " .sort_values(\"averagePrice\", ascending=False)\n",
    " .head(10))"
   ]
  }
 ],
 "metadata": {
  "kernelspec": {
   "display_name": "Python 3",
   "language": "python",
   "name": "python3"
  },
  "language_info": {
   "codemirror_mode": {
    "name": "ipython",
    "version": 3
   },
   "file_extension": ".py",
   "mimetype": "text/x-python",
   "name": "python",
   "nbconvert_exporter": "python",
   "pygments_lexer": "ipython3",
   "version": "3.6.5"
  }
 },
 "nbformat": 4,
 "nbformat_minor": 2
}
