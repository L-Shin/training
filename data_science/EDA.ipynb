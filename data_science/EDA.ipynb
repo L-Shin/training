{
 "cells": [
  {
   "cell_type": "markdown",
   "metadata": {},
   "source": [
    "# Python and Neo4j for Network Science\n",
    "\n",
    "In this notebook we'll look at how to combine Python and Neo4j to explore a network/graph containing interactions between Game of Thrones characters."
   ]
  },
  {
   "cell_type": "code",
   "execution_count": 35,
   "metadata": {},
   "outputs": [],
   "source": [
    "from neo4j.v1 import GraphDatabase, basic_auth\n",
    "import numpy as np\n",
    "import matplotlib.mlab as mlab\n",
    "import matplotlib.pyplot as plt\n",
    "import pandas as pd"
   ]
  },
  {
   "cell_type": "code",
   "execution_count": 36,
   "metadata": {},
   "outputs": [],
   "source": [
    "driver = GraphDatabase.driver(\"bolt://localhost:7687\", auth=basic_auth(\"neo4j\", \"neo\"))"
   ]
  },
  {
   "cell_type": "markdown",
   "metadata": {},
   "source": [
    "## Import data"
   ]
  },
  {
   "cell_type": "code",
   "execution_count": 37,
   "metadata": {},
   "outputs": [
    {
     "name": "stdout",
     "output_type": "stream",
     "text": [
      "{'labels_added': 187, 'relationships_created': 684, 'nodes_created': 187, 'properties_set': 1555}\n",
      "{'labels_added': 169, 'relationships_created': 775, 'nodes_created': 169, 'properties_set': 1719}\n",
      "{'labels_added': 142, 'relationships_created': 1008, 'nodes_created': 142, 'properties_set': 2158}\n",
      "{'labels_added': 298, 'relationships_created': 1329, 'nodes_created': 298, 'properties_set': 2956}\n"
     ]
    }
   ],
   "source": [
    "with driver.session() as session:\n",
    "    session.run(\"CREATE CONSTRAINT ON (c:Character) ASSERT c.name IS UNIQUE\")\n",
    "    \n",
    "    result = session.run(\"\"\"\\\n",
    "    LOAD CSV WITH HEADERS FROM \"https://raw.githubusercontent.com/mathbeveridge/asoiaf/master/data/asoiaf-book1-edges.csv\" AS row\n",
    "    MERGE (src:Character {name: row.Source})\n",
    "    MERGE (tgt:Character {name: row.Target})\n",
    "    // relationship for the book\n",
    "    MERGE (src)-[r:INTERACTS1]->(tgt)\n",
    "    ON CREATE SET r.weight = toInt(row.weight), r.book=1\n",
    "    \"\"\")\n",
    "    print(result.summary().counters)\n",
    "    \n",
    "    result = session.run(\"\"\"\\\n",
    "    LOAD CSV WITH HEADERS FROM \"https://raw.githubusercontent.com/mathbeveridge/asoiaf/master/data/asoiaf-book2-edges.csv\" AS row\n",
    "    MERGE (src:Character {name: row.Source})\n",
    "    MERGE (tgt:Character {name: row.Target})\n",
    "    // relationship for the book\n",
    "    MERGE (src)-[r:INTERACTS2]->(tgt)\n",
    "    ON CREATE SET r.weight = toInt(row.weight), r.book=2\n",
    "    \"\"\")    \n",
    "    print(result.summary().counters)\n",
    "    \n",
    "    result = session.run(\"\"\"\\\n",
    "    LOAD CSV WITH HEADERS FROM \"https://raw.githubusercontent.com/mathbeveridge/asoiaf/master/data/asoiaf-book3-edges.csv\" AS row\n",
    "    MERGE (src:Character {name: row.Source})\n",
    "    MERGE (tgt:Character {name: row.Target})\n",
    "    // relationship for the book\n",
    "    MERGE (src)-[r:INTERACTS3]->(tgt)\n",
    "    ON CREATE SET r.weight = toInt(row.weight), r.book=3\n",
    "    \"\"\") \n",
    "    print(result.summary().counters)\n",
    "    \n",
    "    result = session.run(\"\"\"\\\n",
    "    LOAD CSV WITH HEADERS FROM \"https://raw.githubusercontent.com/mathbeveridge/asoiaf/master/data/asoiaf-book45-edges.csv\" AS row\n",
    "    MERGE (src:Character {name: row.Source})\n",
    "    MERGE (tgt:Character {name: row.Target})\n",
    "    // relationship for the book\n",
    "    MERGE (src)-[r:INTERACTS45]->(tgt)\n",
    "    ON CREATE SET r.weight = toInt(row.weight), r.book=45\n",
    "    \"\"\")     \n",
    "    print(result.summary().counters)"
   ]
  },
  {
   "cell_type": "markdown",
   "metadata": {},
   "source": [
    "## How many characters do we have?\n",
    "\n",
    "To get started let's run the query which calculates the number of characters in Game of Thrones and print it to the screen."
   ]
  },
  {
   "cell_type": "code",
   "execution_count": 38,
   "metadata": {},
   "outputs": [
    {
     "name": "stdout",
     "output_type": "stream",
     "text": [
      "Number of characters: 796\n"
     ]
    }
   ],
   "source": [
    "query = \"\"\"\\\n",
    "MATCH (c:Character)\n",
    "RETURN count(c) AS totalCharacters\n",
    "\"\"\"\n",
    "\n",
    "with driver.session() as session:\n",
    "    result = session.run(query)\n",
    "    row = result.peek()\n",
    "    print(\"Number of characters: {0}\".format(row[\"totalCharacters\"]))        "
   ]
  },
  {
   "cell_type": "markdown",
   "metadata": {},
   "source": [
    "## What's the distribution of interactions by characters? \n",
    "\n",
    "We can combine Neo4j and matplotlib to create a histogram that shows how interactions are spread out across our characters."
   ]
  },
  {
   "cell_type": "code",
   "execution_count": 39,
   "metadata": {},
   "outputs": [],
   "source": [
    "query = \"\"\"\\\n",
    "MATCH (c:Character)--()\n",
    "RETURN c, count(*) AS numberOfInteractions\n",
    "\"\"\"\n",
    "\n",
    "with driver.session() as session:\n",
    "    result = session.run(query)\n",
    "    interactions = [row[\"numberOfInteractions\"] for row in result]        "
   ]
  },
  {
   "cell_type": "code",
   "execution_count": 40,
   "metadata": {},
   "outputs": [
    {
     "data": {
      "image/png": "[encoded data removed]",
      "text/plain": [
       "<matplotlib.figure.Figure at 0x110f7d3c8>"
      ]
     },
     "metadata": {},
     "output_type": "display_data"
    }
   ],
   "source": [
    "plt.hist(interactions, normed=True, bins=50)\n",
    "plt.ylabel('Probability');\n",
    "plt.xlabel('Number of interactions');\n",
    "plt.show()"
   ]
  },
  {
   "cell_type": "markdown",
   "metadata": {},
   "source": [
    "Unsurprisingly the majority of characters don't say much! This looks like a classic long tail/power law chart."
   ]
  },
  {
   "cell_type": "markdown",
   "metadata": {},
   "source": [
    "## Summary Statistics\n",
    "\n",
    "We can calculate summary statistics on the interactions of characters:"
   ]
  },
  {
   "cell_type": "code",
   "execution_count": 41,
   "metadata": {},
   "outputs": [
    {
     "name": "stdout",
     "output_type": "stream",
     "text": [
      "<Record min=1 max=148 avg_characters=6.578856152513001 stdev=14.16045587171888>\n"
     ]
    }
   ],
   "source": [
    "query = \"\"\"\\\n",
    "MATCH (c:Character)-->()\n",
    "WITH c, count(*) AS num\n",
    "RETURN min(num) AS min, max(num) AS max, avg(num) AS avg_characters, stdev(num) AS stdev\n",
    "\"\"\"\n",
    "\n",
    "with driver.session() as session:\n",
    "    result = session.run(query)\n",
    "    print(result.peek())"
   ]
  },
  {
   "cell_type": "markdown",
   "metadata": {},
   "source": [
    "We can run the following query to calculate those statistics on a book by book basis:"
   ]
  },
  {
   "cell_type": "code",
   "execution_count": 42,
   "metadata": {},
   "outputs": [
    {
     "name": "stdout",
     "output_type": "stream",
     "text": [
      "<Record book=1 min=1 max=51 avg_characters=4.920863309352515 stdev=7.0967074915280755>\n",
      "<Record book=2 min=1 max=37 avg_characters=4.015544041450779 stdev=5.360422756122164>\n",
      "<Record book=3 min=1 max=36 avg_characters=4.289361702127663 stdev=5.335866147079831>\n",
      "<Record book=45 min=1 max=57 avg_characters=3.691666666666668 stdev=5.636326417753424>\n"
     ]
    }
   ],
   "source": [
    "query = \"\"\"\\\n",
    "MATCH (c:Character)-[r]->()\n",
    "WITH r.book as book, c, count(*) AS num\n",
    "RETURN book, min(num) AS min, max(num) AS max, avg(num) AS avg_characters, stdev(num) AS stdev\n",
    "ORDER BY book\n",
    "\"\"\"\n",
    "\n",
    "with driver.session() as session:\n",
    "    result = session.run(query)\n",
    "    for row in result:\n",
    "        print(row)"
   ]
  },
  {
   "cell_type": "markdown",
   "metadata": {},
   "source": [
    "## Pivotal nodes\n",
    "\n",
    "A node is said to be pivotal if it lies on all shortest paths between two other nodes in the network. We can find all pivotal nodes in the network.\n",
    "\n",
    "The following query will find all the pivotal nodes in the network for the first book:"
   ]
  },
  {
   "cell_type": "code",
   "execution_count": 43,
   "metadata": {},
   "outputs": [
    {
     "name": "stdout",
     "output_type": "stream",
     "text": [
      "<Record a.name='Eroeh' b.name='Rickard-Karstark' PivotalNode='Eddard-Stark' pathLength=3 pathCount=1>\n",
      "<Record a.name='Eroeh' b.name='Dywen' PivotalNode='Daenerys-Targaryen' pathLength=4 pathCount=2>\n",
      "<Record a.name='Eroeh' b.name='Dywen' PivotalNode='Jon-Snow' pathLength=4 pathCount=2>\n",
      "<Record a.name='Pypar' b.name='Kevan-Lannister' PivotalNode='Tyrion-Lannister' pathLength=3 pathCount=2>\n",
      "<Record a.name='Daryn-Hornwood' b.name='Catelyn-Stark' PivotalNode='Eddard-Stark' pathLength=2 pathCount=1>\n",
      "<Record a.name='Clydas' b.name='Gared' PivotalNode='Aemon-Targaryen-(Maester-Aemon)' pathLength=3 pathCount=1>\n",
      "<Record a.name='Clydas' b.name='Gared' PivotalNode='Jeor-Mormont' pathLength=3 pathCount=1>\n",
      "<Record a.name='Rickon-Stark' b.name='Gared' PivotalNode='Jeor-Mormont' pathLength=3 pathCount=3>\n",
      "<Record a.name='Ogo' b.name='Myrcella-Baratheon' PivotalNode='Drogo' pathLength=3 pathCount=1>\n",
      "<Record a.name='Ogo' b.name='Myrcella-Baratheon' PivotalNode='Robert-Baratheon' pathLength=3 pathCount=1>\n"
     ]
    }
   ],
   "source": [
    "query = \"\"\"\\\n",
    "MATCH (a:Character), (b:Character) WHERE id(a) > id(b)\n",
    "MATCH p = allShortestPaths((a)-[:INTERACTS1*]-(b))\n",
    "\n",
    "WITH collect(p) AS paths, a, b\n",
    "UNWIND nodes(head(paths)) as c // first path\n",
    "\n",
    "WITH *\n",
    "WHERE NOT c IN [a,b]\n",
    "AND all(path IN tail(paths) WHERE c IN nodes(path))\n",
    "\n",
    "RETURN a.name, b.name, c.name AS PivotalNode, length(head(paths)) AS pathLength, length(paths) AS pathCount\n",
    "SKIP 490\n",
    "LIMIT 10\n",
    "\"\"\"\n",
    "\n",
    "with driver.session() as session:\n",
    "    result = session.run(query)\n",
    "    for row in result:\n",
    "        print(row)"
   ]
  },
  {
   "cell_type": "markdown",
   "metadata": {},
   "source": [
    "## Querying with Pandas\n",
    "\n",
    "We can take the results of Cypher queries and do further processing using the Pandas library.\n",
    "\n",
    "For example here we find the first 5 rows using the Pandas `head()` function"
   ]
  },
  {
   "cell_type": "code",
   "execution_count": 44,
   "metadata": {},
   "outputs": [
    {
     "name": "stdout",
     "output_type": "stream",
     "text": [
      "   interactions             name\n",
      "0             7           Todder\n",
      "1             1          Matthar\n",
      "2             1            Othor\n",
      "3             8   Paxter-Redwyne\n",
      "4             1  Ulf-son-of-Umar\n"
     ]
    }
   ],
   "source": [
    "query = \"\"\"\\\n",
    "match (c:Character) \n",
    "return c.name AS name, size((c)--()) AS interactions\n",
    "\"\"\"\n",
    "\n",
    "with driver.session() as session:\n",
    "    result = session.run(query)\n",
    "\n",
    "df = pd.DataFrame([dict(record) for record in result])\n",
    "print(df.head())"
   ]
  },
  {
   "cell_type": "markdown",
   "metadata": {},
   "source": [
    "We could do our filtering using Pandas as well. The following code finds some of the characters who have more than 5 different interactions:"
   ]
  },
  {
   "cell_type": "markdown",
   "metadata": {},
   "source": [
    "df.query('interactions>5').head()"
   ]
  },
  {
   "cell_type": "markdown",
   "metadata": {},
   "source": [
    "We can find the characters with the least interactions as well:"
   ]
  },
  {
   "cell_type": "code",
   "execution_count": 45,
   "metadata": {
    "scrolled": true
   },
   "outputs": [
    {
     "data": {
      "text/html": [
       "<div>\n",
       "<style>\n",
       "    .dataframe thead tr:only-child th {\n",
       "        text-align: right;\n",
       "    }\n",
       "\n",
       "    .dataframe thead th {\n",
       "        text-align: left;\n",
       "    }\n",
       "\n",
       "    .dataframe tbody tr th {\n",
       "        vertical-align: top;\n",
       "    }\n",
       "</style>\n",
       "<table border=\"1\" class=\"dataframe\">\n",
       "  <thead>\n",
       "    <tr style=\"text-align: right;\">\n",
       "      <th></th>\n",
       "      <th>interactions</th>\n",
       "      <th>name</th>\n",
       "    </tr>\n",
       "  </thead>\n",
       "  <tbody>\n",
       "    <tr>\n",
       "      <th>5</th>\n",
       "      <td>2</td>\n",
       "      <td>Aegon-V-Targaryen</td>\n",
       "    </tr>\n",
       "    <tr>\n",
       "      <th>279</th>\n",
       "      <td>2</td>\n",
       "      <td>Smiling-Knight</td>\n",
       "    </tr>\n",
       "    <tr>\n",
       "      <th>535</th>\n",
       "      <td>2</td>\n",
       "      <td>Wick-Whittlestick</td>\n",
       "    </tr>\n",
       "    <tr>\n",
       "      <th>285</th>\n",
       "      <td>2</td>\n",
       "      <td>Oznak-zo-Pahl</td>\n",
       "    </tr>\n",
       "    <tr>\n",
       "      <th>287</th>\n",
       "      <td>2</td>\n",
       "      <td>Robin-Ryger</td>\n",
       "    </tr>\n",
       "  </tbody>\n",
       "</table>\n",
       "</div>"
      ],
      "text/plain": [
       "     interactions               name\n",
       "5               2  Aegon-V-Targaryen\n",
       "279             2     Smiling-Knight\n",
       "535             2  Wick-Whittlestick\n",
       "285             2      Oznak-zo-Pahl\n",
       "287             2        Robin-Ryger"
      ]
     },
     "execution_count": 45,
     "metadata": {},
     "output_type": "execute_result"
    }
   ],
   "source": [
    "df.query('1 < interactions <5').sort_values(by=[\"interactions\"], ascending = True).head()"
   ]
  },
  {
   "cell_type": "markdown",
   "metadata": {},
   "source": [
    "We could analyse the pivotal nodes query from earlier as well:"
   ]
  },
  {
   "cell_type": "code",
   "execution_count": 46,
   "metadata": {},
   "outputs": [
    {
     "name": "stdout",
     "output_type": "stream",
     "text": [
      "        PivotalNode            p1             p2  pathCount  pathLength\n",
      "0             Drogo  Rickon-Stark           Fogo          9           5\n",
      "1               Ogo  Rickon-Stark           Fogo          9           5\n",
      "2     Samwell-Tarly   Wyl-(guard)  Randyll-Tarly          5           4\n",
      "3        Bran-Stark          Hali         Shagga          1           3\n",
      "4  Tyrion-Lannister          Hali         Shagga          1           3\n"
     ]
    }
   ],
   "source": [
    "query = \"\"\"\\\n",
    "MATCH (a:Character), (b:Character) WHERE id(a) > id(b)\n",
    "MATCH p = allShortestPaths((a)-[:INTERACTS1*]-(b))\n",
    "\n",
    "WITH collect(p) AS paths, a, b\n",
    "UNWIND nodes(head(paths)) as c // first path\n",
    "\n",
    "WITH *\n",
    "WHERE NOT c IN [a,b]\n",
    "AND all(path IN tail(paths) WHERE c IN nodes(path))\n",
    "\n",
    "RETURN a.name AS p1, b.name AS p2, c.name AS PivotalNode, length(head(paths)) AS pathLength, length(paths) AS pathCount\n",
    "\"\"\"\n",
    "\n",
    "with driver.session() as session:\n",
    "    result = session.run(query)\n",
    "\n",
    "df = pd.DataFrame([dict(record) for record in result])\n",
    "print(df.head())"
   ]
  },
  {
   "cell_type": "code",
   "execution_count": 47,
   "metadata": {},
   "outputs": [
    {
     "data": {
      "text/html": [
       "<div>\n",
       "<style>\n",
       "    .dataframe thead tr:only-child th {\n",
       "        text-align: right;\n",
       "    }\n",
       "\n",
       "    .dataframe thead th {\n",
       "        text-align: left;\n",
       "    }\n",
       "\n",
       "    .dataframe tbody tr th {\n",
       "        vertical-align: top;\n",
       "    }\n",
       "</style>\n",
       "<table border=\"1\" class=\"dataframe\">\n",
       "  <thead>\n",
       "    <tr style=\"text-align: right;\">\n",
       "      <th></th>\n",
       "      <th>pathCount</th>\n",
       "      <th>pathLength</th>\n",
       "    </tr>\n",
       "    <tr>\n",
       "      <th>PivotalNode</th>\n",
       "      <th></th>\n",
       "      <th></th>\n",
       "    </tr>\n",
       "  </thead>\n",
       "  <tbody>\n",
       "    <tr>\n",
       "      <th>Danwell-Frey</th>\n",
       "      <td>5.608696</td>\n",
       "      <td>4.777174</td>\n",
       "    </tr>\n",
       "    <tr>\n",
       "      <th>Ogo</th>\n",
       "      <td>2.043243</td>\n",
       "      <td>4.627027</td>\n",
       "    </tr>\n",
       "    <tr>\n",
       "      <th>Mace-Tyrell</th>\n",
       "      <td>5.632432</td>\n",
       "      <td>4.508108</td>\n",
       "    </tr>\n",
       "    <tr>\n",
       "      <th>Walder-Frey</th>\n",
       "      <td>5.633880</td>\n",
       "      <td>4.459016</td>\n",
       "    </tr>\n",
       "    <tr>\n",
       "      <th>Karyl-Vance</th>\n",
       "      <td>5.470270</td>\n",
       "      <td>4.448649</td>\n",
       "    </tr>\n",
       "  </tbody>\n",
       "</table>\n",
       "</div>"
      ],
      "text/plain": [
       "              pathCount  pathLength\n",
       "PivotalNode                        \n",
       "Danwell-Frey   5.608696    4.777174\n",
       "Ogo            2.043243    4.627027\n",
       "Mace-Tyrell    5.632432    4.508108\n",
       "Walder-Frey    5.633880    4.459016\n",
       "Karyl-Vance    5.470270    4.448649"
      ]
     },
     "execution_count": 47,
     "metadata": {},
     "output_type": "execute_result"
    }
   ],
   "source": [
    "df.groupby(['PivotalNode']).mean().sort_values(by=[\"pathLength\"], ascending=False).head()"
   ]
  },
  {
   "cell_type": "code",
   "execution_count": null,
   "metadata": {},
   "outputs": [],
   "source": []
  }
 ],
 "metadata": {
  "kernelspec": {
   "display_name": "Python 3",
   "language": "python",
   "name": "python3"
  },
  "language_info": {
   "codemirror_mode": {
    "name": "ipython",
    "version": 3
   },
   "file_extension": ".py",
   "mimetype": "text/x-python",
   "name": "python",
   "nbconvert_exporter": "python",
   "pygments_lexer": "ipython3",
   "version": "3.6.0"
  }
 },
 "nbformat": 4,
 "nbformat_minor": 2
}
