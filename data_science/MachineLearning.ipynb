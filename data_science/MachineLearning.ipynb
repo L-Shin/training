{
 "cells": [
  {
   "cell_type": "markdown",
   "metadata": {},
   "source": [
    "# Machine Learning \n",
    "\n",
    "In this section we'll explore how to use scikit-learn with Neo4j."
   ]
  },
  {
   "cell_type": "code",
   "execution_count": 1,
   "metadata": {},
   "outputs": [],
   "source": [
    "from neo4j.v1 import GraphDatabase, basic_auth\n",
    "import numpy as np\n",
    "import matplotlib.mlab as mlab\n",
    "import matplotlib.pyplot as plt\n",
    "import pandas as pd\n",
    "\n",
    "from sklearn.metrics.pairwise import linear_kernel\n",
    "import scipy"
   ]
  },
  {
   "cell_type": "code",
   "execution_count": 2,
   "metadata": {},
   "outputs": [],
   "source": [
    "driver = GraphDatabase.driver(\"bolt://localhost:7687\", auth=basic_auth(\"neo4j\", \"neo\"))"
   ]
  },
  {
   "cell_type": "markdown",
   "metadata": {},
   "source": [
    "## Finding similar characters\n",
    "\n",
    "In the next section we'll calculate similarity between characters based on their interactions."
   ]
  },
  {
   "cell_type": "code",
   "execution_count": 3,
   "metadata": {},
   "outputs": [],
   "source": [
    "find_characters_query = \"\"\"\\\n",
    "match (c:Character)\n",
    "return c.name AS character\n",
    "ORDER BY character\n",
    "\"\"\"\n",
    "\n",
    "interactions_query = \"\"\"\\\n",
    "MATCH (c:Character {name: {name}}), (other:Character) \n",
    "WITH c, other, CASE WHEN exists((c)--(other)) THEN 1 ELSE 0 END AS exists\n",
    "ORDER BY other.name\n",
    "RETURN COLLECT(exists) AS interactions\n",
    "\"\"\"\n",
    "\n",
    "with driver.session() as session:    \n",
    "    characters = [record[\"character\"] for record in session.run(find_characters_query)]\n",
    "\n",
    "    matrix = []\n",
    "    for character in characters:\n",
    "        result = session.run(interactions_query, name = character)\n",
    "        matrix.append(result.peek()[\"interactions\"])"
   ]
  },
  {
   "cell_type": "code",
   "execution_count": 4,
   "metadata": {
    "scrolled": true
   },
   "outputs": [
    {
     "data": {
      "text/plain": [
       "[0, 0, 0, 0, 0, 0, 0, 0, 0, 0]"
      ]
     },
     "execution_count": 4,
     "metadata": {},
     "output_type": "execute_result"
    }
   ],
   "source": [
    "matrix[0][:10]"
   ]
  },
  {
   "cell_type": "markdown",
   "metadata": {},
   "source": [
    "The following function finds the most similar characters for a given character based on their interactions with other characters."
   ]
  },
  {
   "cell_type": "code",
   "execution_count": 5,
   "metadata": {},
   "outputs": [],
   "source": [
    "def find_similar(matrix, index, top_n = 5):\n",
    "    cosine_similarities = linear_kernel(matrix[index:index+1], matrix).flatten()\n",
    "    related_indices = [i for i in cosine_similarities.argsort()[::-1] if i != index]\n",
    "    return [(index, cosine_similarities[index]) for index in related_indices][0:top_n]"
   ]
  },
  {
   "cell_type": "code",
   "execution_count": 6,
   "metadata": {},
   "outputs": [],
   "source": [
    "characters_with_index = list(enumerate(characters))"
   ]
  },
  {
   "cell_type": "code",
   "execution_count": 7,
   "metadata": {},
   "outputs": [],
   "source": [
    "def find_character_index(name):\n",
    "    return [index for (index, character) in characters_with_index if character == name][0]"
   ]
  },
  {
   "cell_type": "code",
   "execution_count": 8,
   "metadata": {},
   "outputs": [
    {
     "name": "stdout",
     "output_type": "stream",
     "text": [
      "Character: Arya-Stark\n",
      "31.0 Joffrey-Baratheon\n",
      "30.0 Eddard-Stark\n",
      "29.0 Jaime-Lannister\n",
      "28.0 Cersei-Lannister\n",
      "26.0 Sansa-Stark\n",
      "26.0 Sandor-Clegane\n",
      "26.0 Robert-Baratheon\n",
      "25.0 Tyrion-Lannister\n",
      "25.0 Robb-Stark\n",
      "21.0 Jon-Snow\n"
     ]
    }
   ],
   "source": [
    "character_index = find_character_index(\"Arya-Stark\")\n",
    "\n",
    "print(\"Character: \" + characters[character_index])\n",
    "for index, score in find_similar(matrix, character_index, 10):\n",
    "    print(score, characters[index])"
   ]
  },
  {
   "cell_type": "code",
   "execution_count": 9,
   "metadata": {},
   "outputs": [],
   "source": [
    "find_characters_query = \"\"\"\\\n",
    "match (c:Character)\n",
    "return c.name AS character\n",
    "ORDER BY character\n",
    "\"\"\"\n",
    "\n",
    "interactions_query = \"\"\"\\\n",
    "MATCH (c:Character {name: {name}}), (other:Character) \n",
    "WITH c, other, coalesce([ (c)-[rel]-(other) | rel.weight ][0], 0) AS interactions\n",
    "ORDER BY other.name\n",
    "RETURN COLLECT(interactions) AS interactions\n",
    "\"\"\"\n",
    "\n",
    "with driver.session() as session:    \n",
    "    characters = [record[\"character\"] for record in session.run(find_characters_query)]\n",
    "\n",
    "    count_matrix = []\n",
    "    for character in characters:\n",
    "        result = session.run(interactions_query, name = character)\n",
    "        count_matrix.append(result.peek()[\"interactions\"])"
   ]
  },
  {
   "cell_type": "code",
   "execution_count": 10,
   "metadata": {},
   "outputs": [
    {
     "name": "stdout",
     "output_type": "stream",
     "text": [
      "Character: Arya-Stark\n",
      "15814.0 Robert-Baratheon\n",
      "12621.0 Joffrey-Baratheon\n",
      "12182.0 Eddard-Stark\n",
      "8815.0 Cersei-Lannister\n",
      "7593.0 Robb-Stark\n",
      "6679.0 Sansa-Stark\n",
      "6576.0 Bran-Stark\n",
      "6173.0 Tyrion-Lannister\n",
      "5494.0 Catelyn-Stark\n",
      "5230.0 Jon-Snow\n"
     ]
    }
   ],
   "source": [
    "character_index = find_character_index(\"Arya-Stark\")\n",
    "\n",
    "print(\"Character: \" + characters[character_index])\n",
    "for index, score in find_similar(count_matrix, character_index, 10):\n",
    "    print(score, characters[index])"
   ]
  },
  {
   "cell_type": "code",
   "execution_count": null,
   "metadata": {},
   "outputs": [],
   "source": []
  }
 ],
 "metadata": {
  "kernelspec": {
   "display_name": "Python 3",
   "language": "python",
   "name": "python3"
  },
  "language_info": {
   "codemirror_mode": {
    "name": "ipython",
    "version": 3
   },
   "file_extension": ".py",
   "mimetype": "text/x-python",
   "name": "python",
   "nbconvert_exporter": "python",
   "pygments_lexer": "ipython3",
   "version": "3.6.0"
  }
 },
 "nbformat": 4,
 "nbformat_minor": 2
}
