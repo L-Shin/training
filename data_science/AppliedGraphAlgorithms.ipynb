{
 "cells": [
  {
   "cell_type": "markdown",
   "metadata": {},
   "source": [
    "# Applied Graph Algorithms"
   ]
  },
  {
   "cell_type": "code",
   "execution_count": 1,
   "metadata": {},
   "outputs": [],
   "source": [
    "from neo4j.v1 import GraphDatabase, basic_auth\n",
    "import numpy as np\n",
    "import matplotlib.mlab as mlab\n",
    "import matplotlib.pyplot as plt\n",
    "import pandas as pd"
   ]
  },
  {
   "cell_type": "code",
   "execution_count": 2,
   "metadata": {},
   "outputs": [],
   "source": [
    "driver = GraphDatabase.driver(\"bolt://localhost:7687\", auth=basic_auth(\"neo4j\", \"neo\"))"
   ]
  },
  {
   "cell_type": "markdown",
   "metadata": {},
   "source": [
    "## Betweenness Centrality\n",
    "\n",
    "Betweenness centrality identifies nodes that are strategically positioned in the network, meaning that information will often travel through that person. Such an intermediary position gives that person power and influence.\n",
    "\n",
    "Betweenness centrality is a raw count of the number of short paths that go through a given node. For example, if a node is located on a bottleneck between two large communities, then it will have high betweenness."
   ]
  },
  {
   "cell_type": "code",
   "execution_count": 14,
   "metadata": {},
   "outputs": [],
   "source": [
    "query = \"\"\"\\\n",
    "CALL algo.betweenness.stream(\"Character\", \"INTERACTS1\")\n",
    "YIELD nodeId, centrality\n",
    "MATCH (c:Character) WHERE ID(c) = nodeId\n",
    "RETURN c.name, centrality\n",
    "\"\"\"\n",
    "\n",
    "with driver.session() as session:\n",
    "    result = session.run(query)\n",
    "df = pd.DataFrame([dict(record) for record in result])    "
   ]
  },
  {
   "cell_type": "code",
   "execution_count": 16,
   "metadata": {},
   "outputs": [
    {
     "data": {
      "text/html": [
       "<div>\n",
       "<style>\n",
       "    .dataframe thead tr:only-child th {\n",
       "        text-align: right;\n",
       "    }\n",
       "\n",
       "    .dataframe thead th {\n",
       "        text-align: left;\n",
       "    }\n",
       "\n",
       "    .dataframe tbody tr th {\n",
       "        vertical-align: top;\n",
       "    }\n",
       "</style>\n",
       "<table border=\"1\" class=\"dataframe\">\n",
       "  <thead>\n",
       "    <tr style=\"text-align: right;\">\n",
       "      <th></th>\n",
       "      <th>c.name</th>\n",
       "      <th>centrality</th>\n",
       "    </tr>\n",
       "  </thead>\n",
       "  <tbody>\n",
       "    <tr>\n",
       "      <th>750</th>\n",
       "      <td>Tyrion-Lannister</td>\n",
       "      <td>2682.658333</td>\n",
       "    </tr>\n",
       "    <tr>\n",
       "      <th>742</th>\n",
       "      <td>Sansa-Stark</td>\n",
       "      <td>2495.428571</td>\n",
       "    </tr>\n",
       "    <tr>\n",
       "      <th>736</th>\n",
       "      <td>Robb-Stark</td>\n",
       "      <td>1296.169048</td>\n",
       "    </tr>\n",
       "    <tr>\n",
       "      <th>656</th>\n",
       "      <td>Eddard-Stark</td>\n",
       "      <td>1058.450000</td>\n",
       "    </tr>\n",
       "    <tr>\n",
       "      <th>751</th>\n",
       "      <td>Tywin-Lannister</td>\n",
       "      <td>929.833333</td>\n",
       "    </tr>\n",
       "  </tbody>\n",
       "</table>\n",
       "</div>"
      ],
      "text/plain": [
       "               c.name   centrality\n",
       "750  Tyrion-Lannister  2682.658333\n",
       "742       Sansa-Stark  2495.428571\n",
       "736        Robb-Stark  1296.169048\n",
       "656      Eddard-Stark  1058.450000\n",
       "751   Tywin-Lannister   929.833333"
      ]
     },
     "execution_count": 16,
     "metadata": {},
     "output_type": "execute_result"
    }
   ],
   "source": [
    "df.sort_values(by=[\"centrality\"], ascending=False).head()"
   ]
  },
  {
   "cell_type": "code",
   "execution_count": 23,
   "metadata": {},
   "outputs": [],
   "source": [
    "query = \"\"\"\\\n",
    "CALL algo.betweenness.stream(\"Character\", \"INTERACTS1\")\n",
    "YIELD nodeId, centrality\n",
    "MATCH (c:Character) WHERE ID(c) = nodeId\n",
    "WITH c, centrality, [(c)-[r:INTERACTS1]-(other) | {character: other.name, weight: r.weight}] AS interactions\n",
    "RETURN c.name, centrality, apoc.coll.sum([i in interactions | i.weight]) AS totalInteractions\n",
    "\"\"\"\n",
    "\n",
    "with driver.session() as session:\n",
    "    df = pd.DataFrame([dict(record) for record in session.run(query)])  "
   ]
  },
  {
   "cell_type": "code",
   "execution_count": 27,
   "metadata": {},
   "outputs": [
    {
     "data": {
      "text/html": [
       "<div>\n",
       "<style>\n",
       "    .dataframe thead tr:only-child th {\n",
       "        text-align: right;\n",
       "    }\n",
       "\n",
       "    .dataframe thead th {\n",
       "        text-align: left;\n",
       "    }\n",
       "\n",
       "    .dataframe tbody tr th {\n",
       "        vertical-align: top;\n",
       "    }\n",
       "</style>\n",
       "<table border=\"1\" class=\"dataframe\">\n",
       "  <thead>\n",
       "    <tr style=\"text-align: right;\">\n",
       "      <th></th>\n",
       "      <th>c.name</th>\n",
       "      <th>centrality</th>\n",
       "      <th>totalInteractions</th>\n",
       "    </tr>\n",
       "  </thead>\n",
       "  <tbody>\n",
       "    <tr>\n",
       "      <th>750</th>\n",
       "      <td>Tyrion-Lannister</td>\n",
       "      <td>2682.658333</td>\n",
       "      <td>650.0</td>\n",
       "    </tr>\n",
       "    <tr>\n",
       "      <th>742</th>\n",
       "      <td>Sansa-Stark</td>\n",
       "      <td>2495.428571</td>\n",
       "      <td>545.0</td>\n",
       "    </tr>\n",
       "    <tr>\n",
       "      <th>736</th>\n",
       "      <td>Robb-Stark</td>\n",
       "      <td>1296.169048</td>\n",
       "      <td>516.0</td>\n",
       "    </tr>\n",
       "    <tr>\n",
       "      <th>656</th>\n",
       "      <td>Eddard-Stark</td>\n",
       "      <td>1058.450000</td>\n",
       "      <td>1284.0</td>\n",
       "    </tr>\n",
       "    <tr>\n",
       "      <th>751</th>\n",
       "      <td>Tywin-Lannister</td>\n",
       "      <td>929.833333</td>\n",
       "      <td>181.0</td>\n",
       "    </tr>\n",
       "    <tr>\n",
       "      <th>738</th>\n",
       "      <td>Robert-Baratheon</td>\n",
       "      <td>792.791667</td>\n",
       "      <td>941.0</td>\n",
       "    </tr>\n",
       "    <tr>\n",
       "      <th>693</th>\n",
       "      <td>Jon-Snow</td>\n",
       "      <td>790.166667</td>\n",
       "      <td>784.0</td>\n",
       "    </tr>\n",
       "    <tr>\n",
       "      <th>690</th>\n",
       "      <td>Joffrey-Baratheon</td>\n",
       "      <td>537.450000</td>\n",
       "      <td>422.0</td>\n",
       "    </tr>\n",
       "    <tr>\n",
       "      <th>732</th>\n",
       "      <td>Renly-Baratheon</td>\n",
       "      <td>446.308333</td>\n",
       "      <td>186.0</td>\n",
       "    </tr>\n",
       "    <tr>\n",
       "      <th>683</th>\n",
       "      <td>Jaime-Lannister</td>\n",
       "      <td>389.119048</td>\n",
       "      <td>241.0</td>\n",
       "    </tr>\n",
       "  </tbody>\n",
       "</table>\n",
       "</div>"
      ],
      "text/plain": [
       "                c.name   centrality  totalInteractions\n",
       "750   Tyrion-Lannister  2682.658333              650.0\n",
       "742        Sansa-Stark  2495.428571              545.0\n",
       "736         Robb-Stark  1296.169048              516.0\n",
       "656       Eddard-Stark  1058.450000             1284.0\n",
       "751    Tywin-Lannister   929.833333              181.0\n",
       "738   Robert-Baratheon   792.791667              941.0\n",
       "693           Jon-Snow   790.166667              784.0\n",
       "690  Joffrey-Baratheon   537.450000              422.0\n",
       "732    Renly-Baratheon   446.308333              186.0\n",
       "683    Jaime-Lannister   389.119048              241.0"
      ]
     },
     "execution_count": 27,
     "metadata": {},
     "output_type": "execute_result"
    }
   ],
   "source": [
    "df.sort_values(by=[\"centrality\"], ascending=False).head(10)"
   ]
  },
  {
   "cell_type": "code",
   "execution_count": 26,
   "metadata": {},
   "outputs": [
    {
     "data": {
      "text/html": [
       "<div>\n",
       "<style>\n",
       "    .dataframe thead tr:only-child th {\n",
       "        text-align: right;\n",
       "    }\n",
       "\n",
       "    .dataframe thead th {\n",
       "        text-align: left;\n",
       "    }\n",
       "\n",
       "    .dataframe tbody tr th {\n",
       "        vertical-align: top;\n",
       "    }\n",
       "</style>\n",
       "<table border=\"1\" class=\"dataframe\">\n",
       "  <thead>\n",
       "    <tr style=\"text-align: right;\">\n",
       "      <th></th>\n",
       "      <th>c.name</th>\n",
       "      <th>centrality</th>\n",
       "      <th>totalInteractions</th>\n",
       "    </tr>\n",
       "  </thead>\n",
       "  <tbody>\n",
       "    <tr>\n",
       "      <th>656</th>\n",
       "      <td>Eddard-Stark</td>\n",
       "      <td>1058.450000</td>\n",
       "      <td>1284.0</td>\n",
       "    </tr>\n",
       "    <tr>\n",
       "      <th>738</th>\n",
       "      <td>Robert-Baratheon</td>\n",
       "      <td>792.791667</td>\n",
       "      <td>941.0</td>\n",
       "    </tr>\n",
       "    <tr>\n",
       "      <th>693</th>\n",
       "      <td>Jon-Snow</td>\n",
       "      <td>790.166667</td>\n",
       "      <td>784.0</td>\n",
       "    </tr>\n",
       "    <tr>\n",
       "      <th>750</th>\n",
       "      <td>Tyrion-Lannister</td>\n",
       "      <td>2682.658333</td>\n",
       "      <td>650.0</td>\n",
       "    </tr>\n",
       "    <tr>\n",
       "      <th>742</th>\n",
       "      <td>Sansa-Stark</td>\n",
       "      <td>2495.428571</td>\n",
       "      <td>545.0</td>\n",
       "    </tr>\n",
       "    <tr>\n",
       "      <th>632</th>\n",
       "      <td>Bran-Stark</td>\n",
       "      <td>22.500000</td>\n",
       "      <td>531.0</td>\n",
       "    </tr>\n",
       "    <tr>\n",
       "      <th>636</th>\n",
       "      <td>Catelyn-Stark</td>\n",
       "      <td>172.042857</td>\n",
       "      <td>520.0</td>\n",
       "    </tr>\n",
       "    <tr>\n",
       "      <th>736</th>\n",
       "      <td>Robb-Stark</td>\n",
       "      <td>1296.169048</td>\n",
       "      <td>516.0</td>\n",
       "    </tr>\n",
       "    <tr>\n",
       "      <th>646</th>\n",
       "      <td>Daenerys-Targaryen</td>\n",
       "      <td>160.005952</td>\n",
       "      <td>443.0</td>\n",
       "    </tr>\n",
       "    <tr>\n",
       "      <th>623</th>\n",
       "      <td>Arya-Stark</td>\n",
       "      <td>0.000000</td>\n",
       "      <td>430.0</td>\n",
       "    </tr>\n",
       "  </tbody>\n",
       "</table>\n",
       "</div>"
      ],
      "text/plain": [
       "                 c.name   centrality  totalInteractions\n",
       "656        Eddard-Stark  1058.450000             1284.0\n",
       "738    Robert-Baratheon   792.791667              941.0\n",
       "693            Jon-Snow   790.166667              784.0\n",
       "750    Tyrion-Lannister  2682.658333              650.0\n",
       "742         Sansa-Stark  2495.428571              545.0\n",
       "632          Bran-Stark    22.500000              531.0\n",
       "636       Catelyn-Stark   172.042857              520.0\n",
       "736          Robb-Stark  1296.169048              516.0\n",
       "646  Daenerys-Targaryen   160.005952              443.0\n",
       "623          Arya-Stark     0.000000              430.0"
      ]
     },
     "execution_count": 26,
     "metadata": {},
     "output_type": "execute_result"
    }
   ],
   "source": [
    "df.sort_values(by=[\"totalInteractions\"], ascending=False).head(10)"
   ]
  },
  {
   "cell_type": "markdown",
   "metadata": {},
   "source": [
    "## Storing betweenness centrality\n",
    "\n",
    "Although the betweenness centrality algorithm runs very quickly on this dataset we wouldn’t usually be running this types of algorithms in the normal request/response flow of a web/mobile app. Instead of that we can store the result of the calculation as a property on the node and then refer to it in future queries.\n",
    "\n",
    "Each of the algorithms has a variant that saves its output to the database rather than returning a stream. Let’s run the betweenness centrality algorithm and store the result as a property named `book1BetweennessCentrality`:"
   ]
  },
  {
   "cell_type": "code",
   "execution_count": 30,
   "metadata": {},
   "outputs": [],
   "source": [
    "query = \"\"\"\\\n",
    "CALL algo.betweenness(\"Character\", \"INTERACTS1\", {writeProperty: \"book1BetweennessCentrality\"})\n",
    "\"\"\"\n",
    "with driver.session() as session:\n",
    "    session.run(query)"
   ]
  },
  {
   "cell_type": "markdown",
   "metadata": {},
   "source": [
    "We can write the following query to find the most influential characters:"
   ]
  },
  {
   "cell_type": "code",
   "execution_count": 31,
   "metadata": {},
   "outputs": [],
   "source": [
    "query = \"\"\"\\\n",
    "MATCH (c:Character)\n",
    "RETURN c.name, c.book1BetweennessCentrality AS centrality\n",
    "\"\"\"\n",
    "\n",
    "with driver.session() as session:\n",
    "    df = pd.DataFrame([dict(record) for record in session.run(query)])  "
   ]
  },
  {
   "cell_type": "code",
   "execution_count": 33,
   "metadata": {},
   "outputs": [
    {
     "data": {
      "text/html": [
       "<div>\n",
       "<style>\n",
       "    .dataframe thead tr:only-child th {\n",
       "        text-align: right;\n",
       "    }\n",
       "\n",
       "    .dataframe thead th {\n",
       "        text-align: left;\n",
       "    }\n",
       "\n",
       "    .dataframe tbody tr th {\n",
       "        vertical-align: top;\n",
       "    }\n",
       "</style>\n",
       "<table border=\"1\" class=\"dataframe\">\n",
       "  <thead>\n",
       "    <tr style=\"text-align: right;\">\n",
       "      <th></th>\n",
       "      <th>c.name</th>\n",
       "      <th>centrality</th>\n",
       "    </tr>\n",
       "  </thead>\n",
       "  <tbody>\n",
       "    <tr>\n",
       "      <th>750</th>\n",
       "      <td>Tyrion-Lannister</td>\n",
       "      <td>2682.658333</td>\n",
       "    </tr>\n",
       "    <tr>\n",
       "      <th>742</th>\n",
       "      <td>Sansa-Stark</td>\n",
       "      <td>2495.428571</td>\n",
       "    </tr>\n",
       "    <tr>\n",
       "      <th>736</th>\n",
       "      <td>Robb-Stark</td>\n",
       "      <td>1296.169048</td>\n",
       "    </tr>\n",
       "    <tr>\n",
       "      <th>656</th>\n",
       "      <td>Eddard-Stark</td>\n",
       "      <td>1058.450000</td>\n",
       "    </tr>\n",
       "    <tr>\n",
       "      <th>751</th>\n",
       "      <td>Tywin-Lannister</td>\n",
       "      <td>929.833333</td>\n",
       "    </tr>\n",
       "  </tbody>\n",
       "</table>\n",
       "</div>"
      ],
      "text/plain": [
       "               c.name   centrality\n",
       "750  Tyrion-Lannister  2682.658333\n",
       "742       Sansa-Stark  2495.428571\n",
       "736        Robb-Stark  1296.169048\n",
       "656      Eddard-Stark  1058.450000\n",
       "751   Tywin-Lannister   929.833333"
      ]
     },
     "execution_count": 33,
     "metadata": {},
     "output_type": "execute_result"
    }
   ],
   "source": [
    "df.sort_values(by=[\"centrality\"], ascending=False).head()"
   ]
  },
  {
   "cell_type": "markdown",
   "metadata": {},
   "source": [
    "## Exercise: Betweenness Centrality for books 2-5\n",
    "\n",
    "Now we want to calculate the betweenness centrality for the other books in the series and store the results in the database.\n",
    "\n",
    "* Write queries that call algo.betweenness for the INTERACTS2, INTERACTS3, and INTERACTS45 relationship types.\n",
    "\n",
    "After you’ve done that see if you can write queries to answer the following questions:\n",
    "\n",
    "* Which character had the biggest increase in influence from book 1 to 5?\n",
    "\n",
    "Wh* ich character had the biggest decrease?\n",
    "\n",
    "Bonus question:\n",
    "\n",
    "* Which characters who were in the top 10 influencers in book 1 are also in the top 10 influencers in book 5?"
   ]
  }
 ],
 "metadata": {
  "kernelspec": {
   "display_name": "Python 3",
   "language": "python",
   "name": "python3"
  },
  "language_info": {
   "codemirror_mode": {
    "name": "ipython",
    "version": 3
   },
   "file_extension": ".py",
   "mimetype": "text/x-python",
   "name": "python",
   "nbconvert_exporter": "python",
   "pygments_lexer": "ipython3",
   "version": "3.6.0"
  }
 },
 "nbformat": 4,
 "nbformat_minor": 2
}
